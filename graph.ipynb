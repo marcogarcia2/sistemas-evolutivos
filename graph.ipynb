{
 "cells": [
  {
   "cell_type": "markdown",
   "metadata": {},
   "source": [
    "# Plotando o Fitness dos indivíduos\n",
    "Quanto menor, melhor!\n",
    "\n",
    "Significa que a diferença deste pixel para o pixel correspondente na imagem original é menor, ou seja, é mais parecido!\n",
    "\n",
    "Para gerar o gráfico dos fitness basta clicar em \"Run All\" depois de ter rodado o programa!"
   ]
  },
  {
   "cell_type": "code",
   "execution_count": null,
   "metadata": {},
   "outputs": [],
   "source": [
    "import random\n",
    "import numpy as np\n",
    "import matplotlib.pyplot as plt\n",
    "\n",
    "def random_color():\n",
    "    return (random.random(), random.random(), random.random())"
   ]
  },
  {
   "cell_type": "code",
   "execution_count": null,
   "metadata": {},
   "outputs": [],
   "source": [
    "y = []\n",
    "with open('fitness.txt') as f:\n",
    "    for line in f:\n",
    "        values = line.split(',')\n",
    "        for val in values:\n",
    "            if val.strip() != '':\n",
    "                y.append(float(val.strip()))\n",
    "\n",
    "x = np.arange(0, len(y), 1)\n",
    "\n",
    "plt.plot(x, y, color=random_color(), marker='.')\n",
    "plt.xlabel('Geração')\n",
    "plt.ylabel('Fitness Médio')\n",
    "plt.title('Fitness médio por geração')\n",
    "plt.grid(True)\n",
    "\n",
    "plt.show()"
   ]
  }
 ],
 "metadata": {
  "kernelspec": {
   "display_name": "Python 3",
   "language": "python",
   "name": "python3"
  },
  "language_info": {
   "codemirror_mode": {
    "name": "ipython",
    "version": 3
   },
   "file_extension": ".py",
   "mimetype": "text/x-python",
   "name": "python",
   "nbconvert_exporter": "python",
   "pygments_lexer": "ipython3",
   "version": "3.11.2"
  }
 },
 "nbformat": 4,
 "nbformat_minor": 2
}
